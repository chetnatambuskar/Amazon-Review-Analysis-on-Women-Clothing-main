{
  "cells": [
    {
      "cell_type": "code",
      "source": [
        "from google.colab import drive\n",
        "drive.mount('/gdrive/')\n",
        "%cd /gdrive"
      ],
      "metadata": {
        "colab": {
          "base_uri": "https://localhost:8080/"
        },
        "id": "yLJvewMxvK0g",
        "outputId": "dcc7b637-7bf7-4323-dc0e-37e9d0b180d5"
      },
      "id": "yLJvewMxvK0g",
      "execution_count": 1,
      "outputs": [
        {
          "output_type": "stream",
          "name": "stdout",
          "text": [
            "Mounted at /gdrive/\n",
            "/gdrive\n"
          ]
        }
      ]
    },
    {
      "cell_type": "code",
      "source": [
        "ls"
      ],
      "metadata": {
        "colab": {
          "base_uri": "https://localhost:8080/"
        },
        "id": "0FPk_bz-vKqi",
        "outputId": "773cde6b-cc78-4d74-bb2c-171cb8e32c0d"
      },
      "id": "0FPk_bz-vKqi",
      "execution_count": 2,
      "outputs": [
        {
          "output_type": "stream",
          "name": "stdout",
          "text": [
            "\u001b[0m\u001b[01;34mMyDrive\u001b[0m/  \u001b[01;34mShareddrives\u001b[0m/\n"
          ]
        }
      ]
    },
    {
      "cell_type": "code",
      "source": [
        "cd/gdrive/MyDrive/Amazon Review/"
      ],
      "metadata": {
        "colab": {
          "base_uri": "https://localhost:8080/"
        },
        "id": "YsDCtdmPvKiq",
        "outputId": "3cd5c50a-d76f-4f2c-aad7-7b37dfb393e0"
      },
      "id": "YsDCtdmPvKiq",
      "execution_count": 3,
      "outputs": [
        {
          "output_type": "stream",
          "name": "stdout",
          "text": [
            "/gdrive/MyDrive/Amazon Review\n"
          ]
        }
      ]
    },
    {
      "cell_type": "code",
      "source": [
        "ls"
      ],
      "metadata": {
        "colab": {
          "base_uri": "https://localhost:8080/"
        },
        "id": "Z3kS5LmpvKcm",
        "outputId": "de7a2674-711d-4318-c2de-945c75c4ff7e"
      },
      "id": "Z3kS5LmpvKcm",
      "execution_count": 4,
      "outputs": [
        {
          "output_type": "stream",
          "name": "stdout",
          "text": [
            "'Women Dresses Reviews Dataset .csv'\n"
          ]
        }
      ]
    },
    {
      "cell_type": "code",
      "execution_count": 5,
      "id": "58527162",
      "metadata": {
        "_cell_guid": "b1076dfc-b9ad-4769-8c92-a6c4dae69d19",
        "_uuid": "8f2839f25d086af736a60e9eeb907d3b93b6e0e5",
        "execution": {
          "iopub.execute_input": "2022-07-08T07:39:52.381131Z",
          "iopub.status.busy": "2022-07-08T07:39:52.380503Z",
          "iopub.status.idle": "2022-07-08T07:39:52.400442Z",
          "shell.execute_reply": "2022-07-08T07:39:52.399640Z"
        },
        "papermill": {
          "duration": 0.028159,
          "end_time": "2022-07-08T07:39:52.403669",
          "exception": false,
          "start_time": "2022-07-08T07:39:52.375510",
          "status": "completed"
        },
        "tags": [],
        "colab": {
          "base_uri": "https://localhost:8080/"
        },
        "id": "58527162",
        "outputId": "faf7a711-f8af-46f4-aaea-8c136a6778fc"
      },
      "outputs": [
        {
          "output_type": "stream",
          "name": "stdout",
          "text": [
            "/gdrive/MyDrive/Amazon Review/Women Dresses Reviews Dataset .csv\n"
          ]
        }
      ],
      "source": [
        "import numpy as np \n",
        "import pandas as pd \n",
        "\n",
        "import os\n",
        "for dirname, _, filenames in os.walk('/gdrive/MyDrive/Amazon Review'):\n",
        "    for filename in filenames:\n",
        "        print(os.path.join(dirname, filename))"
      ]
    },
    {
      "cell_type": "code",
      "execution_count": 6,
      "id": "bb6c4599",
      "metadata": {
        "execution": {
          "iopub.execute_input": "2022-07-08T07:39:52.411493Z",
          "iopub.status.busy": "2022-07-08T07:39:52.411125Z",
          "iopub.status.idle": "2022-07-08T07:39:53.862712Z",
          "shell.execute_reply": "2022-07-08T07:39:53.861433Z"
        },
        "papermill": {
          "duration": 1.458744,
          "end_time": "2022-07-08T07:39:53.866087",
          "exception": false,
          "start_time": "2022-07-08T07:39:52.407343",
          "status": "completed"
        },
        "tags": [],
        "id": "bb6c4599"
      },
      "outputs": [],
      "source": [
        "import numpy as np\n",
        "import pandas as pd\n",
        "import matplotlib.pyplot as plt\n",
        "from matplotlib.ticker import MaxNLocator\n",
        "from matplotlib.colors import ListedColormap\n",
        "import seaborn as sns\n",
        "from cycler import cycler\n",
        "from IPython.display import display\n",
        "import datetime\n",
        "\n",
        "from sklearn.decomposition import PCA\n",
        "from sklearn.preprocessing import StandardScaler\n",
        "from sklearn.feature_selection import mutual_info_classif"
      ]
    },
    {
      "cell_type": "code",
      "execution_count": 7,
      "id": "bbc4115b",
      "metadata": {
        "execution": {
          "iopub.execute_input": "2022-07-08T07:39:53.877146Z",
          "iopub.status.busy": "2022-07-08T07:39:53.876362Z",
          "iopub.status.idle": "2022-07-08T07:39:54.118637Z",
          "shell.execute_reply": "2022-07-08T07:39:54.117458Z"
        },
        "papermill": {
          "duration": 0.250742,
          "end_time": "2022-07-08T07:39:54.121416",
          "exception": false,
          "start_time": "2022-07-08T07:39:53.870674",
          "status": "completed"
        },
        "tags": [],
        "id": "bbc4115b"
      },
      "outputs": [],
      "source": [
        "df=pd.read_csv(\"/gdrive/MyDrive/Amazon Review/Women Dresses Reviews Dataset .csv\")"
      ]
    },
    {
      "cell_type": "code",
      "execution_count": 8,
      "id": "a7845f80",
      "metadata": {
        "execution": {
          "iopub.execute_input": "2022-07-08T07:39:54.128532Z",
          "iopub.status.busy": "2022-07-08T07:39:54.128149Z",
          "iopub.status.idle": "2022-07-08T07:39:54.152971Z",
          "shell.execute_reply": "2022-07-08T07:39:54.151898Z"
        },
        "papermill": {
          "duration": 0.030693,
          "end_time": "2022-07-08T07:39:54.155138",
          "exception": false,
          "start_time": "2022-07-08T07:39:54.124445",
          "status": "completed"
        },
        "tags": [],
        "colab": {
          "base_uri": "https://localhost:8080/",
          "height": 206
        },
        "id": "a7845f80",
        "outputId": "ff814a3d-181e-4351-9577-c4f67840c786"
      },
      "outputs": [
        {
          "output_type": "execute_result",
          "data": {
            "text/plain": [
              "   s.no  age   division_name department_name class_name  clothing_id  \\\n",
              "0     0   40         General         Bottoms      Jeans         1028   \n",
              "1     1   62  General Petite            Tops    Blouses          850   \n",
              "2     2   47  General Petite         Bottoms     Skirts          993   \n",
              "3     3   45  General Petite         Bottoms      Pants         1068   \n",
              "4     4   37       Initmates        Intimate       Swim           24   \n",
              "\n",
              "                    title                                        review_text  \\\n",
              "0    Amazing fit and wash  Like other reviewers i was hesitant to spend t...   \n",
              "1      Lovely and unique!  As is true of a bunch of the fall clothing pho...   \n",
              "2                     Meh  I so wanted this skirt to work, love the desig...   \n",
              "3                     Wow  Love love this! i was hesitant to buy this at ...   \n",
              "4  Great for bigger busts  I absolutely love the retro look of this swims...   \n",
              "\n",
              "   alike_feedback_count  rating  recommend_index   \n",
              "0                     0       5                 1  \n",
              "1                    12       5                 1  \n",
              "2                     3       1                 0  \n",
              "3                     0       5                 1  \n",
              "4                     0       5                 1  "
            ],
            "text/html": [
              "\n",
              "  <div id=\"df-57191afd-1e88-4f73-a8b5-4a105efb9cb7\">\n",
              "    <div class=\"colab-df-container\">\n",
              "      <div>\n",
              "<style scoped>\n",
              "    .dataframe tbody tr th:only-of-type {\n",
              "        vertical-align: middle;\n",
              "    }\n",
              "\n",
              "    .dataframe tbody tr th {\n",
              "        vertical-align: top;\n",
              "    }\n",
              "\n",
              "    .dataframe thead th {\n",
              "        text-align: right;\n",
              "    }\n",
              "</style>\n",
              "<table border=\"1\" class=\"dataframe\">\n",
              "  <thead>\n",
              "    <tr style=\"text-align: right;\">\n",
              "      <th></th>\n",
              "      <th>s.no</th>\n",
              "      <th>age</th>\n",
              "      <th>division_name</th>\n",
              "      <th>department_name</th>\n",
              "      <th>class_name</th>\n",
              "      <th>clothing_id</th>\n",
              "      <th>title</th>\n",
              "      <th>review_text</th>\n",
              "      <th>alike_feedback_count</th>\n",
              "      <th>rating</th>\n",
              "      <th>recommend_index</th>\n",
              "    </tr>\n",
              "  </thead>\n",
              "  <tbody>\n",
              "    <tr>\n",
              "      <th>0</th>\n",
              "      <td>0</td>\n",
              "      <td>40</td>\n",
              "      <td>General</td>\n",
              "      <td>Bottoms</td>\n",
              "      <td>Jeans</td>\n",
              "      <td>1028</td>\n",
              "      <td>Amazing fit and wash</td>\n",
              "      <td>Like other reviewers i was hesitant to spend t...</td>\n",
              "      <td>0</td>\n",
              "      <td>5</td>\n",
              "      <td>1</td>\n",
              "    </tr>\n",
              "    <tr>\n",
              "      <th>1</th>\n",
              "      <td>1</td>\n",
              "      <td>62</td>\n",
              "      <td>General Petite</td>\n",
              "      <td>Tops</td>\n",
              "      <td>Blouses</td>\n",
              "      <td>850</td>\n",
              "      <td>Lovely and unique!</td>\n",
              "      <td>As is true of a bunch of the fall clothing pho...</td>\n",
              "      <td>12</td>\n",
              "      <td>5</td>\n",
              "      <td>1</td>\n",
              "    </tr>\n",
              "    <tr>\n",
              "      <th>2</th>\n",
              "      <td>2</td>\n",
              "      <td>47</td>\n",
              "      <td>General Petite</td>\n",
              "      <td>Bottoms</td>\n",
              "      <td>Skirts</td>\n",
              "      <td>993</td>\n",
              "      <td>Meh</td>\n",
              "      <td>I so wanted this skirt to work, love the desig...</td>\n",
              "      <td>3</td>\n",
              "      <td>1</td>\n",
              "      <td>0</td>\n",
              "    </tr>\n",
              "    <tr>\n",
              "      <th>3</th>\n",
              "      <td>3</td>\n",
              "      <td>45</td>\n",
              "      <td>General Petite</td>\n",
              "      <td>Bottoms</td>\n",
              "      <td>Pants</td>\n",
              "      <td>1068</td>\n",
              "      <td>Wow</td>\n",
              "      <td>Love love this! i was hesitant to buy this at ...</td>\n",
              "      <td>0</td>\n",
              "      <td>5</td>\n",
              "      <td>1</td>\n",
              "    </tr>\n",
              "    <tr>\n",
              "      <th>4</th>\n",
              "      <td>4</td>\n",
              "      <td>37</td>\n",
              "      <td>Initmates</td>\n",
              "      <td>Intimate</td>\n",
              "      <td>Swim</td>\n",
              "      <td>24</td>\n",
              "      <td>Great for bigger busts</td>\n",
              "      <td>I absolutely love the retro look of this swims...</td>\n",
              "      <td>0</td>\n",
              "      <td>5</td>\n",
              "      <td>1</td>\n",
              "    </tr>\n",
              "  </tbody>\n",
              "</table>\n",
              "</div>\n",
              "      <button class=\"colab-df-convert\" onclick=\"convertToInteractive('df-57191afd-1e88-4f73-a8b5-4a105efb9cb7')\"\n",
              "              title=\"Convert this dataframe to an interactive table.\"\n",
              "              style=\"display:none;\">\n",
              "        \n",
              "  <svg xmlns=\"http://www.w3.org/2000/svg\" height=\"24px\"viewBox=\"0 0 24 24\"\n",
              "       width=\"24px\">\n",
              "    <path d=\"M0 0h24v24H0V0z\" fill=\"none\"/>\n",
              "    <path d=\"M18.56 5.44l.94 2.06.94-2.06 2.06-.94-2.06-.94-.94-2.06-.94 2.06-2.06.94zm-11 1L8.5 8.5l.94-2.06 2.06-.94-2.06-.94L8.5 2.5l-.94 2.06-2.06.94zm10 10l.94 2.06.94-2.06 2.06-.94-2.06-.94-.94-2.06-.94 2.06-2.06.94z\"/><path d=\"M17.41 7.96l-1.37-1.37c-.4-.4-.92-.59-1.43-.59-.52 0-1.04.2-1.43.59L10.3 9.45l-7.72 7.72c-.78.78-.78 2.05 0 2.83L4 21.41c.39.39.9.59 1.41.59.51 0 1.02-.2 1.41-.59l7.78-7.78 2.81-2.81c.8-.78.8-2.07 0-2.86zM5.41 20L4 18.59l7.72-7.72 1.47 1.35L5.41 20z\"/>\n",
              "  </svg>\n",
              "      </button>\n",
              "      \n",
              "  <style>\n",
              "    .colab-df-container {\n",
              "      display:flex;\n",
              "      flex-wrap:wrap;\n",
              "      gap: 12px;\n",
              "    }\n",
              "\n",
              "    .colab-df-convert {\n",
              "      background-color: #E8F0FE;\n",
              "      border: none;\n",
              "      border-radius: 50%;\n",
              "      cursor: pointer;\n",
              "      display: none;\n",
              "      fill: #1967D2;\n",
              "      height: 32px;\n",
              "      padding: 0 0 0 0;\n",
              "      width: 32px;\n",
              "    }\n",
              "\n",
              "    .colab-df-convert:hover {\n",
              "      background-color: #E2EBFA;\n",
              "      box-shadow: 0px 1px 2px rgba(60, 64, 67, 0.3), 0px 1px 3px 1px rgba(60, 64, 67, 0.15);\n",
              "      fill: #174EA6;\n",
              "    }\n",
              "\n",
              "    [theme=dark] .colab-df-convert {\n",
              "      background-color: #3B4455;\n",
              "      fill: #D2E3FC;\n",
              "    }\n",
              "\n",
              "    [theme=dark] .colab-df-convert:hover {\n",
              "      background-color: #434B5C;\n",
              "      box-shadow: 0px 1px 3px 1px rgba(0, 0, 0, 0.15);\n",
              "      filter: drop-shadow(0px 1px 2px rgba(0, 0, 0, 0.3));\n",
              "      fill: #FFFFFF;\n",
              "    }\n",
              "  </style>\n",
              "\n",
              "      <script>\n",
              "        const buttonEl =\n",
              "          document.querySelector('#df-57191afd-1e88-4f73-a8b5-4a105efb9cb7 button.colab-df-convert');\n",
              "        buttonEl.style.display =\n",
              "          google.colab.kernel.accessAllowed ? 'block' : 'none';\n",
              "\n",
              "        async function convertToInteractive(key) {\n",
              "          const element = document.querySelector('#df-57191afd-1e88-4f73-a8b5-4a105efb9cb7');\n",
              "          const dataTable =\n",
              "            await google.colab.kernel.invokeFunction('convertToInteractive',\n",
              "                                                     [key], {});\n",
              "          if (!dataTable) return;\n",
              "\n",
              "          const docLinkHtml = 'Like what you see? Visit the ' +\n",
              "            '<a target=\"_blank\" href=https://colab.research.google.com/notebooks/data_table.ipynb>data table notebook</a>'\n",
              "            + ' to learn more about interactive tables.';\n",
              "          element.innerHTML = '';\n",
              "          dataTable['output_type'] = 'display_data';\n",
              "          await google.colab.output.renderOutput(dataTable, element);\n",
              "          const docLink = document.createElement('div');\n",
              "          docLink.innerHTML = docLinkHtml;\n",
              "          element.appendChild(docLink);\n",
              "        }\n",
              "      </script>\n",
              "    </div>\n",
              "  </div>\n",
              "  "
            ]
          },
          "metadata": {},
          "execution_count": 8
        }
      ],
      "source": [
        "df.head()"
      ]
    },
    {
      "cell_type": "code",
      "execution_count": 9,
      "id": "1bd119c6",
      "metadata": {
        "execution": {
          "iopub.execute_input": "2022-07-08T07:39:54.163072Z",
          "iopub.status.busy": "2022-07-08T07:39:54.162467Z",
          "iopub.status.idle": "2022-07-08T07:39:54.197721Z",
          "shell.execute_reply": "2022-07-08T07:39:54.196816Z"
        },
        "papermill": {
          "duration": 0.041767,
          "end_time": "2022-07-08T07:39:54.200105",
          "exception": false,
          "start_time": "2022-07-08T07:39:54.158338",
          "status": "completed"
        },
        "tags": [],
        "colab": {
          "base_uri": "https://localhost:8080/"
        },
        "id": "1bd119c6",
        "outputId": "3b1843af-1c9f-45ec-82f8-96e8a2bd0f95"
      },
      "outputs": [
        {
          "output_type": "stream",
          "name": "stdout",
          "text": [
            "<class 'pandas.core.frame.DataFrame'>\n",
            "RangeIndex: 23486 entries, 0 to 23485\n",
            "Data columns (total 11 columns):\n",
            " #   Column                Non-Null Count  Dtype \n",
            "---  ------                --------------  ----- \n",
            " 0   s.no                  23486 non-null  int64 \n",
            " 1   age                   23486 non-null  int64 \n",
            " 2   division_name         23472 non-null  object\n",
            " 3   department_name       23472 non-null  object\n",
            " 4   class_name            23472 non-null  object\n",
            " 5   clothing_id           23486 non-null  int64 \n",
            " 6   title                 19676 non-null  object\n",
            " 7   review_text           22641 non-null  object\n",
            " 8   alike_feedback_count  23486 non-null  int64 \n",
            " 9   rating                23486 non-null  int64 \n",
            " 10  recommend_index       23486 non-null  int64 \n",
            "dtypes: int64(6), object(5)\n",
            "memory usage: 2.0+ MB\n"
          ]
        }
      ],
      "source": [
        "df.info()"
      ]
    },
    {
      "cell_type": "code",
      "execution_count": 10,
      "id": "eceb6eaf",
      "metadata": {
        "execution": {
          "iopub.execute_input": "2022-07-08T07:39:54.208293Z",
          "iopub.status.busy": "2022-07-08T07:39:54.207645Z",
          "iopub.status.idle": "2022-07-08T07:39:54.242235Z",
          "shell.execute_reply": "2022-07-08T07:39:54.241160Z"
        },
        "papermill": {
          "duration": 0.041135,
          "end_time": "2022-07-08T07:39:54.244341",
          "exception": false,
          "start_time": "2022-07-08T07:39:54.203206",
          "status": "completed"
        },
        "tags": [],
        "colab": {
          "base_uri": "https://localhost:8080/",
          "height": 300
        },
        "id": "eceb6eaf",
        "outputId": "c68f1bb0-f326-4040-b3b2-33cbde2de6ee"
      },
      "outputs": [
        {
          "output_type": "execute_result",
          "data": {
            "text/plain": [
              "               s.no           age   clothing_id  alike_feedback_count  \\\n",
              "count  23486.000000  23486.000000  23486.000000          23486.000000   \n",
              "mean   11742.500000     43.198544    918.118709              2.535936   \n",
              "std     6779.968547     12.279544    203.298980              5.702202   \n",
              "min        0.000000     18.000000      0.000000              0.000000   \n",
              "25%     5871.250000     34.000000    861.000000              0.000000   \n",
              "50%    11742.500000     41.000000    936.000000              1.000000   \n",
              "75%    17613.750000     52.000000   1078.000000              3.000000   \n",
              "max    23485.000000     99.000000   1205.000000            122.000000   \n",
              "\n",
              "             rating  recommend_index   \n",
              "count  23486.000000      23486.000000  \n",
              "mean       4.196032          0.822362  \n",
              "std        1.110031          0.382216  \n",
              "min        1.000000          0.000000  \n",
              "25%        4.000000          1.000000  \n",
              "50%        5.000000          1.000000  \n",
              "75%        5.000000          1.000000  \n",
              "max        5.000000          1.000000  "
            ],
            "text/html": [
              "\n",
              "  <div id=\"df-21f91441-3176-422b-8fdf-25c70a75f178\">\n",
              "    <div class=\"colab-df-container\">\n",
              "      <div>\n",
              "<style scoped>\n",
              "    .dataframe tbody tr th:only-of-type {\n",
              "        vertical-align: middle;\n",
              "    }\n",
              "\n",
              "    .dataframe tbody tr th {\n",
              "        vertical-align: top;\n",
              "    }\n",
              "\n",
              "    .dataframe thead th {\n",
              "        text-align: right;\n",
              "    }\n",
              "</style>\n",
              "<table border=\"1\" class=\"dataframe\">\n",
              "  <thead>\n",
              "    <tr style=\"text-align: right;\">\n",
              "      <th></th>\n",
              "      <th>s.no</th>\n",
              "      <th>age</th>\n",
              "      <th>clothing_id</th>\n",
              "      <th>alike_feedback_count</th>\n",
              "      <th>rating</th>\n",
              "      <th>recommend_index</th>\n",
              "    </tr>\n",
              "  </thead>\n",
              "  <tbody>\n",
              "    <tr>\n",
              "      <th>count</th>\n",
              "      <td>23486.000000</td>\n",
              "      <td>23486.000000</td>\n",
              "      <td>23486.000000</td>\n",
              "      <td>23486.000000</td>\n",
              "      <td>23486.000000</td>\n",
              "      <td>23486.000000</td>\n",
              "    </tr>\n",
              "    <tr>\n",
              "      <th>mean</th>\n",
              "      <td>11742.500000</td>\n",
              "      <td>43.198544</td>\n",
              "      <td>918.118709</td>\n",
              "      <td>2.535936</td>\n",
              "      <td>4.196032</td>\n",
              "      <td>0.822362</td>\n",
              "    </tr>\n",
              "    <tr>\n",
              "      <th>std</th>\n",
              "      <td>6779.968547</td>\n",
              "      <td>12.279544</td>\n",
              "      <td>203.298980</td>\n",
              "      <td>5.702202</td>\n",
              "      <td>1.110031</td>\n",
              "      <td>0.382216</td>\n",
              "    </tr>\n",
              "    <tr>\n",
              "      <th>min</th>\n",
              "      <td>0.000000</td>\n",
              "      <td>18.000000</td>\n",
              "      <td>0.000000</td>\n",
              "      <td>0.000000</td>\n",
              "      <td>1.000000</td>\n",
              "      <td>0.000000</td>\n",
              "    </tr>\n",
              "    <tr>\n",
              "      <th>25%</th>\n",
              "      <td>5871.250000</td>\n",
              "      <td>34.000000</td>\n",
              "      <td>861.000000</td>\n",
              "      <td>0.000000</td>\n",
              "      <td>4.000000</td>\n",
              "      <td>1.000000</td>\n",
              "    </tr>\n",
              "    <tr>\n",
              "      <th>50%</th>\n",
              "      <td>11742.500000</td>\n",
              "      <td>41.000000</td>\n",
              "      <td>936.000000</td>\n",
              "      <td>1.000000</td>\n",
              "      <td>5.000000</td>\n",
              "      <td>1.000000</td>\n",
              "    </tr>\n",
              "    <tr>\n",
              "      <th>75%</th>\n",
              "      <td>17613.750000</td>\n",
              "      <td>52.000000</td>\n",
              "      <td>1078.000000</td>\n",
              "      <td>3.000000</td>\n",
              "      <td>5.000000</td>\n",
              "      <td>1.000000</td>\n",
              "    </tr>\n",
              "    <tr>\n",
              "      <th>max</th>\n",
              "      <td>23485.000000</td>\n",
              "      <td>99.000000</td>\n",
              "      <td>1205.000000</td>\n",
              "      <td>122.000000</td>\n",
              "      <td>5.000000</td>\n",
              "      <td>1.000000</td>\n",
              "    </tr>\n",
              "  </tbody>\n",
              "</table>\n",
              "</div>\n",
              "      <button class=\"colab-df-convert\" onclick=\"convertToInteractive('df-21f91441-3176-422b-8fdf-25c70a75f178')\"\n",
              "              title=\"Convert this dataframe to an interactive table.\"\n",
              "              style=\"display:none;\">\n",
              "        \n",
              "  <svg xmlns=\"http://www.w3.org/2000/svg\" height=\"24px\"viewBox=\"0 0 24 24\"\n",
              "       width=\"24px\">\n",
              "    <path d=\"M0 0h24v24H0V0z\" fill=\"none\"/>\n",
              "    <path d=\"M18.56 5.44l.94 2.06.94-2.06 2.06-.94-2.06-.94-.94-2.06-.94 2.06-2.06.94zm-11 1L8.5 8.5l.94-2.06 2.06-.94-2.06-.94L8.5 2.5l-.94 2.06-2.06.94zm10 10l.94 2.06.94-2.06 2.06-.94-2.06-.94-.94-2.06-.94 2.06-2.06.94z\"/><path d=\"M17.41 7.96l-1.37-1.37c-.4-.4-.92-.59-1.43-.59-.52 0-1.04.2-1.43.59L10.3 9.45l-7.72 7.72c-.78.78-.78 2.05 0 2.83L4 21.41c.39.39.9.59 1.41.59.51 0 1.02-.2 1.41-.59l7.78-7.78 2.81-2.81c.8-.78.8-2.07 0-2.86zM5.41 20L4 18.59l7.72-7.72 1.47 1.35L5.41 20z\"/>\n",
              "  </svg>\n",
              "      </button>\n",
              "      \n",
              "  <style>\n",
              "    .colab-df-container {\n",
              "      display:flex;\n",
              "      flex-wrap:wrap;\n",
              "      gap: 12px;\n",
              "    }\n",
              "\n",
              "    .colab-df-convert {\n",
              "      background-color: #E8F0FE;\n",
              "      border: none;\n",
              "      border-radius: 50%;\n",
              "      cursor: pointer;\n",
              "      display: none;\n",
              "      fill: #1967D2;\n",
              "      height: 32px;\n",
              "      padding: 0 0 0 0;\n",
              "      width: 32px;\n",
              "    }\n",
              "\n",
              "    .colab-df-convert:hover {\n",
              "      background-color: #E2EBFA;\n",
              "      box-shadow: 0px 1px 2px rgba(60, 64, 67, 0.3), 0px 1px 3px 1px rgba(60, 64, 67, 0.15);\n",
              "      fill: #174EA6;\n",
              "    }\n",
              "\n",
              "    [theme=dark] .colab-df-convert {\n",
              "      background-color: #3B4455;\n",
              "      fill: #D2E3FC;\n",
              "    }\n",
              "\n",
              "    [theme=dark] .colab-df-convert:hover {\n",
              "      background-color: #434B5C;\n",
              "      box-shadow: 0px 1px 3px 1px rgba(0, 0, 0, 0.15);\n",
              "      filter: drop-shadow(0px 1px 2px rgba(0, 0, 0, 0.3));\n",
              "      fill: #FFFFFF;\n",
              "    }\n",
              "  </style>\n",
              "\n",
              "      <script>\n",
              "        const buttonEl =\n",
              "          document.querySelector('#df-21f91441-3176-422b-8fdf-25c70a75f178 button.colab-df-convert');\n",
              "        buttonEl.style.display =\n",
              "          google.colab.kernel.accessAllowed ? 'block' : 'none';\n",
              "\n",
              "        async function convertToInteractive(key) {\n",
              "          const element = document.querySelector('#df-21f91441-3176-422b-8fdf-25c70a75f178');\n",
              "          const dataTable =\n",
              "            await google.colab.kernel.invokeFunction('convertToInteractive',\n",
              "                                                     [key], {});\n",
              "          if (!dataTable) return;\n",
              "\n",
              "          const docLinkHtml = 'Like what you see? Visit the ' +\n",
              "            '<a target=\"_blank\" href=https://colab.research.google.com/notebooks/data_table.ipynb>data table notebook</a>'\n",
              "            + ' to learn more about interactive tables.';\n",
              "          element.innerHTML = '';\n",
              "          dataTable['output_type'] = 'display_data';\n",
              "          await google.colab.output.renderOutput(dataTable, element);\n",
              "          const docLink = document.createElement('div');\n",
              "          docLink.innerHTML = docLinkHtml;\n",
              "          element.appendChild(docLink);\n",
              "        }\n",
              "      </script>\n",
              "    </div>\n",
              "  </div>\n",
              "  "
            ]
          },
          "metadata": {},
          "execution_count": 10
        }
      ],
      "source": [
        "df.describe()"
      ]
    },
    {
      "cell_type": "code",
      "execution_count": 11,
      "id": "fdb11c42",
      "metadata": {
        "execution": {
          "iopub.execute_input": "2022-07-08T07:39:54.252418Z",
          "iopub.status.busy": "2022-07-08T07:39:54.252031Z",
          "iopub.status.idle": "2022-07-08T07:39:54.737840Z",
          "shell.execute_reply": "2022-07-08T07:39:54.736785Z"
        },
        "papermill": {
          "duration": 0.492523,
          "end_time": "2022-07-08T07:39:54.740243",
          "exception": false,
          "start_time": "2022-07-08T07:39:54.247720",
          "status": "completed"
        },
        "tags": [],
        "colab": {
          "base_uri": "https://localhost:8080/",
          "height": 744
        },
        "id": "fdb11c42",
        "outputId": "aa6c4dc4-f0af-4bc1-fab2-731a7fa8abd6"
      },
      "outputs": [
        {
          "output_type": "execute_result",
          "data": {
            "text/plain": [
              "<matplotlib.axes._subplots.AxesSubplot at 0x7faf83ff4550>"
            ]
          },
          "metadata": {},
          "execution_count": 11
        },
        {
          "output_type": "display_data",
          "data": {
            "text/plain": [
              "<Figure size 1800x720 with 2 Axes>"
            ],
            "image/png": "[encoded data removed]"
          },
          "metadata": {
            "needs_background": "light"
          }
        }
      ],
      "source": [
        "import missingno as msno\n",
        "%matplotlib inline\n",
        "msno.matrix(df.sample(250))"
      ]
    },
    {
      "cell_type": "code",
      "execution_count": 12,
      "id": "5a669fcb",
      "metadata": {
        "execution": {
          "iopub.execute_input": "2022-07-08T07:39:54.750195Z",
          "iopub.status.busy": "2022-07-08T07:39:54.749493Z",
          "iopub.status.idle": "2022-07-08T07:39:55.124727Z",
          "shell.execute_reply": "2022-07-08T07:39:55.123555Z"
        },
        "papermill": {
          "duration": 0.38277,
          "end_time": "2022-07-08T07:39:55.127082",
          "exception": false,
          "start_time": "2022-07-08T07:39:54.744312",
          "status": "completed"
        },
        "tags": [],
        "colab": {
          "base_uri": "https://localhost:8080/",
          "height": 596
        },
        "id": "5a669fcb",
        "outputId": "2efa5185-0468-4aa9-be21-abcd94dbe137"
      },
      "outputs": [
        {
          "output_type": "display_data",
          "data": {
            "text/plain": [
              "<Figure size 1008x720 with 2 Axes>"
            ],
            "image/png": "[encoded data removed]"
          },
          "metadata": {
            "needs_background": "light"
          }
        }
      ],
      "source": [
        "corr=df.corr()\n",
        "plt.figure(figsize=(14,10))\n",
        "sns.heatmap(corr, annot=True, cmap='YlGnBu');"
      ]
    },
    {
      "cell_type": "code",
      "execution_count": 13,
      "id": "f9bab74b",
      "metadata": {
        "execution": {
          "iopub.execute_input": "2022-07-08T07:39:55.138117Z",
          "iopub.status.busy": "2022-07-08T07:39:55.137417Z",
          "iopub.status.idle": "2022-07-08T07:39:56.542412Z",
          "shell.execute_reply": "2022-07-08T07:39:56.537693Z"
        },
        "papermill": {
          "duration": 1.413858,
          "end_time": "2022-07-08T07:39:56.545662",
          "exception": false,
          "start_time": "2022-07-08T07:39:55.131804",
          "status": "completed"
        },
        "tags": [],
        "colab": {
          "base_uri": "https://localhost:8080/",
          "height": 975
        },
        "id": "f9bab74b",
        "outputId": "3d4ad023-1963-484a-a0dc-a73454d5863e"
      },
      "outputs": [
        {
          "output_type": "display_data",
          "data": {
            "text/plain": [
              "<Figure size 1152x1152 with 16 Axes>"
            ],
            "image/png": "[encoded data removed]"
          },
          "metadata": {
            "needs_background": "light"
          }
        }
      ],
      "source": [
        "float_features = [f for f in df.columns if df[f].dtype == 'age']\n",
        "\n",
        "# Training histograms\n",
        "fig, axs = plt.subplots(4, 4, figsize=(16, 16))\n",
        "for f, ax in zip(float_features, axs.ravel()):\n",
        "    ax.hist(df[f], density=True, bins=100)\n",
        "    ax.set_title(f'Train {f}, std={df[f].std():.1f}')\n",
        "plt.suptitle('Histograms of the float features', y=0.93, fontsize=20)\n",
        "plt.show()"
      ]
    }
  ],
  "metadata": {
    "kernelspec": {
      "display_name": "Python 3",
      "language": "python",
      "name": "python3"
    },
    "language_info": {
      "codemirror_mode": {
        "name": "ipython",
        "version": 3
      },
      "file_extension": ".py",
      "mimetype": "text/x-python",
      "name": "python",
      "nbconvert_exporter": "python",
      "pygments_lexer": "ipython3",
      "version": "3.7.12"
    },
    "papermill": {
      "default_parameters": {},
      "duration": 13.283152,
      "end_time": "2022-07-08T07:39:57.280968",
      "environment_variables": {},
      "exception": null,
      "input_path": "__notebook__.ipynb",
      "output_path": "__notebook__.ipynb",
      "parameters": {},
      "start_time": "2022-07-08T07:39:43.997816",
      "version": "2.3.4"
    },
    "colab": {
      "name": "EDA Amazon Review Analysis_WomenClothing.ipynb",
      "provenance": []
    }
  },
  "nbformat": 4,
  "nbformat_minor": 5
}